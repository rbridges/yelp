{
 "cells": [
  {
   "cell_type": "code",
   "execution_count": 1,
   "metadata": {
    "collapsed": false
   },
   "outputs": [
    {
     "data": {
      "text/html": [
       "<div>\n",
       "<table border=\"1\" class=\"dataframe\">\n",
       "  <thead>\n",
       "    <tr style=\"text-align: right;\">\n",
       "      <th></th>\n",
       "      <th>attributes</th>\n",
       "      <th>business_id</th>\n",
       "      <th>categories</th>\n",
       "      <th>city</th>\n",
       "      <th>full_address</th>\n",
       "      <th>hours</th>\n",
       "      <th>latitude</th>\n",
       "      <th>longitude</th>\n",
       "      <th>name</th>\n",
       "      <th>neighborhoods</th>\n",
       "      <th>open</th>\n",
       "      <th>review_count</th>\n",
       "      <th>stars</th>\n",
       "      <th>state</th>\n",
       "      <th>type</th>\n",
       "    </tr>\n",
       "  </thead>\n",
       "  <tbody>\n",
       "    <tr>\n",
       "      <th>0</th>\n",
       "      <td>{'Parking': {'garage': False, 'validated': Fal...</td>\n",
       "      <td>5UmKMjUEUNdYWqANhGckJw</td>\n",
       "      <td>[Fast Food, Restaurants]</td>\n",
       "      <td>Dravosburg</td>\n",
       "      <td>4734 Lebanon Church Rd\\nDravosburg, PA 15034</td>\n",
       "      <td>{'Monday': {'close': '21:00', 'open': '11:00'}...</td>\n",
       "      <td>40.354327</td>\n",
       "      <td>-79.900706</td>\n",
       "      <td>Mr Hoagie</td>\n",
       "      <td>[]</td>\n",
       "      <td>True</td>\n",
       "      <td>4</td>\n",
       "      <td>4.5</td>\n",
       "      <td>PA</td>\n",
       "      <td>business</td>\n",
       "    </tr>\n",
       "    <tr>\n",
       "      <th>1</th>\n",
       "      <td>{'Price Range': 1, 'Outdoor Seating': False, '...</td>\n",
       "      <td>UsFtqoBl7naz8AVUBZMjQQ</td>\n",
       "      <td>[Nightlife]</td>\n",
       "      <td>Dravosburg</td>\n",
       "      <td>202 McClure St\\nDravosburg, PA 15034</td>\n",
       "      <td>{}</td>\n",
       "      <td>40.350553</td>\n",
       "      <td>-79.886814</td>\n",
       "      <td>Clancy's Pub</td>\n",
       "      <td>[]</td>\n",
       "      <td>True</td>\n",
       "      <td>4</td>\n",
       "      <td>3.5</td>\n",
       "      <td>PA</td>\n",
       "      <td>business</td>\n",
       "    </tr>\n",
       "    <tr>\n",
       "      <th>2</th>\n",
       "      <td>{}</td>\n",
       "      <td>3eu6MEFlq2Dg7bQh8QbdOg</td>\n",
       "      <td>[Auto Repair, Automotive]</td>\n",
       "      <td>Dravosburg</td>\n",
       "      <td>1 Ravine St\\nDravosburg, PA 15034</td>\n",
       "      <td>{}</td>\n",
       "      <td>40.350956</td>\n",
       "      <td>-79.889059</td>\n",
       "      <td>Joe Cislo's Auto</td>\n",
       "      <td>[]</td>\n",
       "      <td>True</td>\n",
       "      <td>3</td>\n",
       "      <td>5.0</td>\n",
       "      <td>PA</td>\n",
       "      <td>business</td>\n",
       "    </tr>\n",
       "    <tr>\n",
       "      <th>3</th>\n",
       "      <td>{'Good for Kids': True}</td>\n",
       "      <td>cE27W9VPgO88Qxe4ol6y_g</td>\n",
       "      <td>[Active Life, Mini Golf, Golf]</td>\n",
       "      <td>Bethel Park</td>\n",
       "      <td>1530 Hamilton Rd\\nBethel Park, PA 15234</td>\n",
       "      <td>{}</td>\n",
       "      <td>40.354115</td>\n",
       "      <td>-80.014660</td>\n",
       "      <td>Cool Springs Golf Center</td>\n",
       "      <td>[]</td>\n",
       "      <td>False</td>\n",
       "      <td>5</td>\n",
       "      <td>2.5</td>\n",
       "      <td>PA</td>\n",
       "      <td>business</td>\n",
       "    </tr>\n",
       "    <tr>\n",
       "      <th>4</th>\n",
       "      <td>{'Price Range': 2, 'Parking': {'garage': False...</td>\n",
       "      <td>HZdLhv6COCleJMo7nPl-RA</td>\n",
       "      <td>[Shopping, Home Services, Internet Service Pro...</td>\n",
       "      <td>Pittsburgh</td>\n",
       "      <td>301 South Hills Village\\nPittsburgh, PA 15241</td>\n",
       "      <td>{'Monday': {'close': '21:00', 'open': '10:00'}...</td>\n",
       "      <td>40.357620</td>\n",
       "      <td>-80.059980</td>\n",
       "      <td>Verizon</td>\n",
       "      <td>[]</td>\n",
       "      <td>True</td>\n",
       "      <td>5</td>\n",
       "      <td>2.5</td>\n",
       "      <td>PA</td>\n",
       "      <td>business</td>\n",
       "    </tr>\n",
       "    <tr>\n",
       "      <th>5</th>\n",
       "      <td>{'Takes Reservations': False, 'Price Range': 1...</td>\n",
       "      <td>mVHrayjG3uZ_RLHkLj-AMg</td>\n",
       "      <td>[Bars, American (New), Nightlife, Lounges, Res...</td>\n",
       "      <td>rankin</td>\n",
       "      <td>414 Hawkins Ave\\nrankin, PA 15104</td>\n",
       "      <td>{'Wednesday': {'close': '19:00', 'open': '10:0...</td>\n",
       "      <td>40.413464</td>\n",
       "      <td>-79.880247</td>\n",
       "      <td>Emil's Lounge</td>\n",
       "      <td>[]</td>\n",
       "      <td>True</td>\n",
       "      <td>20</td>\n",
       "      <td>5.0</td>\n",
       "      <td>PA</td>\n",
       "      <td>business</td>\n",
       "    </tr>\n",
       "    <tr>\n",
       "      <th>6</th>\n",
       "      <td>{'Good for Kids': False}</td>\n",
       "      <td>VHYT1qgQw5JvXAlUDhTArA</td>\n",
       "      <td>[Active Life, Trainers, Fitness &amp; Instruction]</td>\n",
       "      <td>Pittsburgh</td>\n",
       "      <td>2101 Greentree Rd Ste B201\\nPittsburgh, PA 15220</td>\n",
       "      <td>{}</td>\n",
       "      <td>40.390386</td>\n",
       "      <td>-80.070897</td>\n",
       "      <td>Extreme Fitness 2</td>\n",
       "      <td>[]</td>\n",
       "      <td>True</td>\n",
       "      <td>3</td>\n",
       "      <td>2.5</td>\n",
       "      <td>PA</td>\n",
       "      <td>business</td>\n",
       "    </tr>\n",
       "    <tr>\n",
       "      <th>7</th>\n",
       "      <td>{'Takes Reservations': False, 'Price Range': 1...</td>\n",
       "      <td>KayYbHCt-RkbGcPdGOThNg</td>\n",
       "      <td>[Bars, American (Traditional), Nightlife, Rest...</td>\n",
       "      <td>Carnegie</td>\n",
       "      <td>141 Hawthorne St\\nGreentree\\nCarnegie, PA 15106</td>\n",
       "      <td>{'Monday': {'close': '02:00', 'open': '11:00'}...</td>\n",
       "      <td>40.415517</td>\n",
       "      <td>-80.067534</td>\n",
       "      <td>Alexion's Bar &amp; Grill</td>\n",
       "      <td>[Greentree]</td>\n",
       "      <td>True</td>\n",
       "      <td>21</td>\n",
       "      <td>4.0</td>\n",
       "      <td>PA</td>\n",
       "      <td>business</td>\n",
       "    </tr>\n",
       "    <tr>\n",
       "      <th>8</th>\n",
       "      <td>{}</td>\n",
       "      <td>b12U9TFESStdy7CsTtcOeg</td>\n",
       "      <td>[Auto Repair, Automotive, Tires]</td>\n",
       "      <td>Carnegie</td>\n",
       "      <td>718A Hope Hollow Rd\\nCarnegie, PA 15106</td>\n",
       "      <td>{'Monday': {'close': '19:00', 'open': '07:30'}...</td>\n",
       "      <td>40.394588</td>\n",
       "      <td>-80.084454</td>\n",
       "      <td>Flynn's Tire And Auto Service</td>\n",
       "      <td>[]</td>\n",
       "      <td>True</td>\n",
       "      <td>7</td>\n",
       "      <td>2.5</td>\n",
       "      <td>PA</td>\n",
       "      <td>business</td>\n",
       "    </tr>\n",
       "    <tr>\n",
       "      <th>9</th>\n",
       "      <td>{'Good for Kids': True}</td>\n",
       "      <td>Sktj1eHQFuVa-M4bgnEh8g</td>\n",
       "      <td>[Active Life, Mini Golf]</td>\n",
       "      <td>Carnegie</td>\n",
       "      <td>920 Forsythe Rd\\nCarnegie\\nCarnegie, PA 15106</td>\n",
       "      <td>{}</td>\n",
       "      <td>40.405404</td>\n",
       "      <td>-80.076267</td>\n",
       "      <td>Forsythe Miniature Golf &amp; Snacks</td>\n",
       "      <td>[Carnegie]</td>\n",
       "      <td>False</td>\n",
       "      <td>4</td>\n",
       "      <td>4.0</td>\n",
       "      <td>PA</td>\n",
       "      <td>business</td>\n",
       "    </tr>\n",
       "  </tbody>\n",
       "</table>\n",
       "</div>"
      ],
      "text/plain": [
       "                                          attributes             business_id  \\\n",
       "0  {'Parking': {'garage': False, 'validated': Fal...  5UmKMjUEUNdYWqANhGckJw   \n",
       "1  {'Price Range': 1, 'Outdoor Seating': False, '...  UsFtqoBl7naz8AVUBZMjQQ   \n",
       "2                                                 {}  3eu6MEFlq2Dg7bQh8QbdOg   \n",
       "3                            {'Good for Kids': True}  cE27W9VPgO88Qxe4ol6y_g   \n",
       "4  {'Price Range': 2, 'Parking': {'garage': False...  HZdLhv6COCleJMo7nPl-RA   \n",
       "5  {'Takes Reservations': False, 'Price Range': 1...  mVHrayjG3uZ_RLHkLj-AMg   \n",
       "6                           {'Good for Kids': False}  VHYT1qgQw5JvXAlUDhTArA   \n",
       "7  {'Takes Reservations': False, 'Price Range': 1...  KayYbHCt-RkbGcPdGOThNg   \n",
       "8                                                 {}  b12U9TFESStdy7CsTtcOeg   \n",
       "9                            {'Good for Kids': True}  Sktj1eHQFuVa-M4bgnEh8g   \n",
       "\n",
       "                                          categories         city  \\\n",
       "0                           [Fast Food, Restaurants]   Dravosburg   \n",
       "1                                        [Nightlife]   Dravosburg   \n",
       "2                          [Auto Repair, Automotive]   Dravosburg   \n",
       "3                     [Active Life, Mini Golf, Golf]  Bethel Park   \n",
       "4  [Shopping, Home Services, Internet Service Pro...   Pittsburgh   \n",
       "5  [Bars, American (New), Nightlife, Lounges, Res...       rankin   \n",
       "6     [Active Life, Trainers, Fitness & Instruction]   Pittsburgh   \n",
       "7  [Bars, American (Traditional), Nightlife, Rest...     Carnegie   \n",
       "8                   [Auto Repair, Automotive, Tires]     Carnegie   \n",
       "9                           [Active Life, Mini Golf]     Carnegie   \n",
       "\n",
       "                                       full_address  \\\n",
       "0      4734 Lebanon Church Rd\\nDravosburg, PA 15034   \n",
       "1              202 McClure St\\nDravosburg, PA 15034   \n",
       "2                 1 Ravine St\\nDravosburg, PA 15034   \n",
       "3           1530 Hamilton Rd\\nBethel Park, PA 15234   \n",
       "4     301 South Hills Village\\nPittsburgh, PA 15241   \n",
       "5                 414 Hawkins Ave\\nrankin, PA 15104   \n",
       "6  2101 Greentree Rd Ste B201\\nPittsburgh, PA 15220   \n",
       "7   141 Hawthorne St\\nGreentree\\nCarnegie, PA 15106   \n",
       "8           718A Hope Hollow Rd\\nCarnegie, PA 15106   \n",
       "9     920 Forsythe Rd\\nCarnegie\\nCarnegie, PA 15106   \n",
       "\n",
       "                                               hours   latitude  longitude  \\\n",
       "0  {'Monday': {'close': '21:00', 'open': '11:00'}...  40.354327 -79.900706   \n",
       "1                                                 {}  40.350553 -79.886814   \n",
       "2                                                 {}  40.350956 -79.889059   \n",
       "3                                                 {}  40.354115 -80.014660   \n",
       "4  {'Monday': {'close': '21:00', 'open': '10:00'}...  40.357620 -80.059980   \n",
       "5  {'Wednesday': {'close': '19:00', 'open': '10:0...  40.413464 -79.880247   \n",
       "6                                                 {}  40.390386 -80.070897   \n",
       "7  {'Monday': {'close': '02:00', 'open': '11:00'}...  40.415517 -80.067534   \n",
       "8  {'Monday': {'close': '19:00', 'open': '07:30'}...  40.394588 -80.084454   \n",
       "9                                                 {}  40.405404 -80.076267   \n",
       "\n",
       "                               name neighborhoods   open  review_count  stars  \\\n",
       "0                         Mr Hoagie            []   True             4    4.5   \n",
       "1                      Clancy's Pub            []   True             4    3.5   \n",
       "2                  Joe Cislo's Auto            []   True             3    5.0   \n",
       "3          Cool Springs Golf Center            []  False             5    2.5   \n",
       "4                           Verizon            []   True             5    2.5   \n",
       "5                     Emil's Lounge            []   True            20    5.0   \n",
       "6                 Extreme Fitness 2            []   True             3    2.5   \n",
       "7             Alexion's Bar & Grill   [Greentree]   True            21    4.0   \n",
       "8     Flynn's Tire And Auto Service            []   True             7    2.5   \n",
       "9  Forsythe Miniature Golf & Snacks    [Carnegie]  False             4    4.0   \n",
       "\n",
       "  state      type  \n",
       "0    PA  business  \n",
       "1    PA  business  \n",
       "2    PA  business  \n",
       "3    PA  business  \n",
       "4    PA  business  \n",
       "5    PA  business  \n",
       "6    PA  business  \n",
       "7    PA  business  \n",
       "8    PA  business  \n",
       "9    PA  business  "
      ]
     },
     "execution_count": 1,
     "metadata": {},
     "output_type": "execute_result"
    }
   ],
   "source": [
    "import pandas as pd\n",
    "\n",
    "#yelp_business = pd.read_json('yelp_academic_dataset_business.json')\n",
    "\n",
    "\n",
    "# read the entire file into a python array\n",
    "with open('yelp_academic_dataset_business.json', 'rb') as f:\n",
    "    data = f.readlines()\n",
    "\n",
    "# remove the trailing \"\\n\" from each line\n",
    "data = map(lambda x: x.rstrip(), data)\n",
    "\n",
    "# each element of 'data' is an individual JSON object.\n",
    "# i want to convert it into an *array* of JSON objects\n",
    "# which, in and of itself, is one large JSON object\n",
    "# basically... add square brackets to the beginning\n",
    "# and end, and have all the individual business JSON objects\n",
    "# separated by a comma\n",
    "data_json_str = b'[' + b','.join(data) + b']'\n",
    "\n",
    "# now, load it into pandas\n",
    "data_df = pd.read_json(data_json_str)\n",
    "data_df.head(10)"
   ]
  },
  {
   "cell_type": "code",
   "execution_count": 2,
   "metadata": {
    "collapsed": false
   },
   "outputs": [
    {
     "name": "stdout",
     "output_type": "stream",
     "text": [
      "{'business'}\n"
     ]
    }
   ],
   "source": [
    "types = set()\n",
    "for i in data_df['type']:\n",
    "    types.add(i)\n",
    "\n",
    "print(types)\n"
   ]
  },
  {
   "cell_type": "code",
   "execution_count": 3,
   "metadata": {
    "collapsed": false
   },
   "outputs": [
    {
     "name": "stdout",
     "output_type": "stream",
     "text": [
      "<class 'dict'>\n"
     ]
    }
   ],
   "source": [
    "print(type(data_df['attributes'][0]))"
   ]
  },
  {
   "cell_type": "code",
   "execution_count": 29,
   "metadata": {
    "collapsed": false,
    "scrolled": false
   },
   "outputs": [
    {
     "name": "stdout",
     "output_type": "stream",
     "text": [
      "25071\n",
      "defaultdict(<class 'int'>, {0: 415, 1: 179, 2: 201, 3: 286, 4: 251, 5: 288, 6: 252, 7: 248, 8: 310, 9: 323, 10: 451, 11: 500, 12: 644, 13: 779, 14: 1071, 15: 940, 16: 1255, 17: 1874, 18: 4560, 19: 5250, 20: 2043, 21: 588, 22: 469, 23: 596, 24: 705, 25: 396, 26: 97, 27: 58, 28: 32, 29: 7, 30: 2, 31: 1})\n",
      "25071\n",
      "25071.0\n",
      "Dietary Restrictions {<class 'dict'>}\n",
      "Takes Reservations {<class 'bool'>}\n",
      "Price Range {<class 'int'>}\n",
      "Open 24 Hours {<class 'bool'>}\n",
      "Waiter Service {<class 'bool'>}\n",
      "Ambience {<class 'dict'>}\n",
      "Corkage {<class 'bool'>}\n",
      "Noise Level {<class 'str'>}\n",
      "Parking {<class 'dict'>}\n",
      "Drive-Thru {<class 'bool'>}\n",
      "By Appointment Only {<class 'bool'>}\n",
      "BYOB/Corkage {<class 'str'>}\n",
      "Ages Allowed {<class 'str'>}\n",
      "BYOB {<class 'bool'>}\n",
      "Good For {<class 'dict'>}\n",
      "Delivery {<class 'bool'>}\n",
      "Outdoor Seating {<class 'bool'>}\n",
      "Accepts Insurance {<class 'bool'>}\n",
      "Wi-Fi {<class 'str'>}\n",
      "Coat Check {<class 'bool'>}\n",
      "Order at Counter {<class 'bool'>}\n",
      "Accepts Credit Cards {<class 'bool'>}\n",
      "Happy Hour {<class 'bool'>}\n",
      "Alcohol {<class 'str'>}\n",
      "Wheelchair Accessible {<class 'bool'>}\n",
      "Take-out {<class 'bool'>}\n",
      "Smoking {<class 'str'>}\n",
      "Caters {<class 'bool'>}\n",
      "Attire {<class 'str'>}\n",
      "Good For Dancing {<class 'bool'>}\n",
      "Music {<class 'dict'>}\n",
      "Dogs Allowed {<class 'bool'>}\n",
      "Good for Kids {<class 'bool'>}\n",
      "Has TV {<class 'bool'>}\n",
      "Good For Groups {<class 'bool'>}\n"
     ]
    }
   ],
   "source": [
    "attributes = {}\n",
    "import sys\n",
    "rest_data_df = data_df[['Restaurants' in x for x in data_df['categories']]]\n",
    "print(len(rest_data_df))\n",
    "#rest_data_df = #pd.DataFrame(columns = data_df.columns.values)\n",
    "#index = 0\n",
    "#for i in data_df.itertuples():\n",
    "#    if 'Restaurants' in i[3]:\n",
    "#        rest_data_df.loc[index] = data_df.loc[i[0]] \n",
    "#        index += 1\n",
    "     \n",
    "count = 0.0\n",
    "index = 0.0\n",
    "from collections import defaultdict\n",
    "counts = defaultdict(int)\n",
    "for attr in rest_data_df['attributes']:\n",
    "    counts[len(attr)] += 1\n",
    "    index += 1\n",
    "    for att in attr:\n",
    "        if att not in attributes:\n",
    "            attributes[att] = set()\n",
    "        type1 = type(attr[att])\n",
    "        if type1 is dict:\n",
    "            for i in attr[att].values():\n",
    "                if i != True and i != False:\n",
    "                    sys.exit(\"Not true or false\")\n",
    "        \n",
    "        attributes[att].add(type1)\n",
    "print(counts)  \n",
    "print(sum(counts.values()))\n",
    "print(index)        \n",
    "for a in attributes:\n",
    "    print (a, attributes[a])\n",
    "    print"
   ]
  },
  {
   "cell_type": "code",
   "execution_count": 5,
   "metadata": {
    "collapsed": false
   },
   "outputs": [
    {
     "name": "stdout",
     "output_type": "stream",
     "text": [
      "14819.0\n",
      "8253.0\n",
      "percent discussing Takes Reservations 0.29791464910581705\n",
      "of those discussing, yesses 0.35770631067961167\n",
      "of those discussing, noes 0.6422936893203883\n",
      "\n",
      "\n",
      "\n",
      "293.0\n",
      "28.0\n",
      "percent discussing Open 24 Hours 0.004144877009490606\n",
      "of those discussing, yesses 0.08722741433021806\n",
      "of those discussing, noes 0.9127725856697819\n",
      "\n",
      "\n",
      "\n",
      "8061.0\n",
      "13271.0\n",
      "percent discussing Waiter Service 0.27544709148427915\n",
      "of those discussing, yesses 0.622117007312957\n",
      "of those discussing, noes 0.37788299268704295\n",
      "\n",
      "\n",
      "\n",
      "501.0\n",
      "130.0\n",
      "percent discussing Corkage 0.008147717735166893\n",
      "of those discussing, yesses 0.20602218700475436\n",
      "of those discussing, noes 0.7939778129952456\n",
      "\n",
      "\n",
      "\n",
      "1830.0\n",
      "1495.0\n",
      "percent discussing Drive-Thru 0.042933694880237586\n",
      "of those discussing, yesses 0.4496240601503759\n",
      "of those discussing, noes 0.5503759398496241\n",
      "\n",
      "\n",
      "\n",
      "6243.0\n",
      "5501.0\n",
      "percent discussing By Appointment Only 0.15164310155594293\n",
      "of those discussing, yesses 0.4684094005449591\n",
      "of those discussing, noes 0.5315905994550408\n",
      "\n",
      "\n",
      "\n",
      "806.0\n",
      "43.0\n",
      "percent discussing BYOB 0.010962618632577959\n",
      "of those discussing, yesses 0.050647820965842166\n",
      "of those discussing, noes 0.9493521790341578\n",
      "\n",
      "\n",
      "\n",
      "18894.0\n",
      "4730.0\n",
      "percent discussing Delivery 0.30504228807540834\n",
      "of those discussing, yesses 0.20022011513714866\n",
      "of those discussing, noes 0.7997798848628513\n",
      "\n",
      "\n",
      "\n",
      "14955.0\n",
      "11646.0\n",
      "percent discussing Outdoor Seating 0.34348247143133837\n",
      "of those discussing, yesses 0.4378030901093944\n",
      "of those discussing, noes 0.5621969098906057\n",
      "\n",
      "\n",
      "\n",
      "532.0\n",
      "76.0\n",
      "percent discussing Accepts Insurance 0.007850732778100588\n",
      "of those discussing, yesses 0.125\n",
      "of those discussing, noes 0.875\n",
      "\n",
      "\n",
      "\n",
      "3914.0\n",
      "484.0\n",
      "percent discussing Coat Check 0.056788688746852604\n",
      "of those discussing, yesses 0.110050022737608\n",
      "of those discussing, noes 0.889949977262392\n",
      "\n",
      "\n",
      "\n",
      "138.0\n",
      "238.0\n",
      "percent discussing Order at Counter 0.0048550584285622055\n",
      "of those discussing, yesses 0.6329787234042553\n",
      "of those discussing, noes 0.3670212765957447\n",
      "\n",
      "\n",
      "\n",
      "2999.0\n",
      "53529.0\n",
      "percent discussing Accepts Credit Cards 0.729911550132352\n",
      "of those discussing, yesses 0.9469466459099916\n",
      "of those discussing, noes 0.05305335409000849\n",
      "\n",
      "\n",
      "\n",
      "1339.0\n",
      "3233.0\n",
      "percent discussing Happy Hour 0.05903544450900639\n",
      "of those discussing, yesses 0.7071303587051618\n",
      "of those discussing, noes 0.29286964129483817\n",
      "\n",
      "\n",
      "\n",
      "1961.0\n",
      "20550.0\n",
      "percent discussing Wheelchair Accessible 0.2906707986312867\n",
      "of those discussing, yesses 0.9128870330060859\n",
      "of those discussing, noes 0.08711296699391409\n",
      "\n",
      "\n",
      "\n",
      "2370.0\n",
      "21231.0\n",
      "percent discussing Take-out 0.304745303118342\n",
      "of those discussing, yesses 0.8995805262488877\n",
      "of those discussing, noes 0.10041947375111224\n",
      "\n",
      "\n",
      "\n",
      "8124.0\n",
      "7728.0\n",
      "percent discussing Caters 0.20468719736587254\n",
      "of those discussing, yesses 0.48750946252838756\n",
      "of those discussing, noes 0.5124905374716124\n",
      "\n",
      "\n",
      "\n",
      "3277.0\n",
      "1172.0\n",
      "percent discussing Good For Dancing 0.05744722060817354\n",
      "of those discussing, yesses 0.26342998426612724\n",
      "of those discussing, noes 0.7365700157338728\n",
      "\n",
      "\n",
      "\n",
      "2572.0\n",
      "1359.0\n",
      "percent discussing Dogs Allowed 0.05075860287946284\n",
      "of those discussing, yesses 0.34571355889086747\n",
      "of those discussing, noes 0.6542864411091326\n",
      "\n",
      "\n",
      "\n",
      "6188.0\n",
      "24140.0\n",
      "percent discussing Good for Kids 0.39160694686551745\n",
      "of those discussing, yesses 0.7959641255605381\n",
      "of those discussing, noes 0.2040358744394619\n",
      "\n",
      "\n",
      "\n",
      "11074.0\n",
      "11629.0\n",
      "percent discussing Has TV 0.2931499774033185\n",
      "of those discussing, yesses 0.512223054221909\n",
      "of those discussing, noes 0.487776945778091\n",
      "\n",
      "\n",
      "\n",
      "2845.0\n",
      "23166.0\n",
      "percent discussing Good For Groups 0.3358641616631158\n",
      "of those discussing, yesses 0.890623197877821\n",
      "of those discussing, noes 0.10937680212217908\n",
      "\n",
      "\n",
      "\n"
     ]
    }
   ],
   "source": [
    "\n",
    "    \n",
    "def printStuff(attributeName):\n",
    "    yesses = 0.0\n",
    "    yesStars = 0.0\n",
    "    nos = 0.0\n",
    "    nosStars = 0.0\n",
    "    for attr in data_df['attributes']:\n",
    "        for att in attr:\n",
    "            if att == attributeName:\n",
    "                if attr[att] == True:\n",
    "                    yesses += 1.0\n",
    "                    yesStars += \n",
    "                else:\n",
    "                    nos += 1.0\n",
    "\n",
    "    print (nos)\n",
    "    print (yesses)\n",
    "    print (\"percent discussing\", attributeName, (yesses+nos) / len(data_df))\n",
    "    print (\"of those discussing, yesses\", yesses/(yesses+nos))\n",
    "    print (\"of those discussing, noes\", nos/(yesses+nos)  )\n",
    "    print (\"\\n\\n\")\n",
    "\n",
    "for attributeName in attributes:\n",
    "    for t in attributes[attributeName]:\n",
    "        if t == type(True):\n",
    "            printStuff(attributeName)\n",
    "    \n"
   ]
  },
  {
   "cell_type": "code",
   "execution_count": 6,
   "metadata": {
    "collapsed": false
   },
   "outputs": [],
   "source": [
    "attributes = dict()\n",
    "count = 0\n",
    "for attributes in data_df['attributes']:\n",
    "    for attribute in attributes:\n",
    "        if type(attr[att]) == dict:\n",
    "            print(att, attr[att])\n",
    "            count += 1\n",
    "    if count >= 5: break"
   ]
  },
  {
   "cell_type": "code",
   "execution_count": 7,
   "metadata": {
    "collapsed": false
   },
   "outputs": [
    {
     "name": "stdout",
     "output_type": "stream",
     "text": [
      "25071.0 77445.0 0.32372651559171023\n"
     ]
    }
   ],
   "source": [
    "count = 0.0\n",
    "total = 0.0\n",
    "for cats in data_df['categories']:\n",
    "    if 'Restaurants' in cats:\n",
    "        count += 1\n",
    "    total += 1\n",
    "print(count, total, count/total)"
   ]
  },
  {
   "cell_type": "code",
   "execution_count": 14,
   "metadata": {
    "collapsed": true
   },
   "outputs": [],
   "source": [
    "writer = pd.ExcelWriter('pandas.xlsx', engine = 'xlsxwriter')\n",
    "rest_data_df.to_excel(writer, sheet_name = 'Sheet1')\n",
    "writer.save()"
   ]
  },
  {
   "cell_type": "code",
   "execution_count": 10,
   "metadata": {
    "collapsed": false
   },
   "outputs": [
    {
     "name": "stdout",
     "output_type": "stream",
     "text": [
      "1161675\n"
     ]
    }
   ],
   "source": [
    "print(data_df.size)"
   ]
  },
  {
   "cell_type": "code",
   "execution_count": 11,
   "metadata": {
    "collapsed": false
   },
   "outputs": [
    {
     "data": {
      "text/plain": [
       "77445"
      ]
     },
     "execution_count": 11,
     "metadata": {},
     "output_type": "execute_result"
    }
   ],
   "source": [
    "len(data_df.index)"
   ]
  },
  {
   "cell_type": "code",
   "execution_count": 13,
   "metadata": {
    "collapsed": false
   },
   "outputs": [],
   "source": [
    "writer = pd.ExcelWriter('pandas_all.xlsx', engine = 'xlsxwriter')\n",
    "data_df.to_excel(writer, sheet_name = 'Sheet1')\n",
    "writer.save()"
   ]
  },
  {
   "cell_type": "code",
   "execution_count": 18,
   "metadata": {
    "collapsed": false
   },
   "outputs": [
    {
     "name": "stdout",
     "output_type": "stream",
     "text": [
      "2.0 77445.0 2.582477887533088e-05\n"
     ]
    }
   ],
   "source": [
    "count = 0.0\n",
    "total = 0.0\n",
    "for cats in data_df['state']:\n",
    "    if cats == 'TX':\n",
    "        count += 1\n",
    "    total += 1\n",
    "print(count, total, count/total)"
   ]
  },
  {
   "cell_type": "code",
   "execution_count": 43,
   "metadata": {
    "collapsed": false
   },
   "outputs": [
    {
     "data": {
      "text/plain": [
       "<matplotlib.collections.PathCollection at 0x1bfd345e5f8>"
      ]
     },
     "execution_count": 43,
     "metadata": {},
     "output_type": "execute_result"
    },
    {
     "data": {
      "image/png": "[encoded data removed]",
      "text/plain": [
       "<matplotlib.figure.Figure at 0x1bfd3372e48>"
      ]
     },
     "metadata": {},
     "output_type": "display_data"
    }
   ],
   "source": [
    "attrName = 'Takes Reservations'\n",
    "indep_data = []\n",
    "dep_data = []\n",
    "\n",
    "ratings = set()\n",
    "for index, row in rest_data_df.iterrows():\n",
    "    if attrName in row['attributes']:\n",
    "        indep_data.append((row['attributes'][attrName], row['stars']))\n",
    "        #dep_data.append(row['stars'])\n",
    "    \n",
    "#for i in ratings:\n",
    "#print(sorted(list(ratings)))   \n",
    "\n",
    "import matplotlib.pyplot as plt\n",
    "plt.scatter([x[0] for x in indep_data], [x[1] for x in indep_data])\n"
   ]
  },
  {
   "cell_type": "code",
   "execution_count": 42,
   "metadata": {
    "collapsed": false
   },
   "outputs": [
    {
     "data": {
      "text/plain": [
       "3.6934146813867907"
      ]
     },
     "execution_count": 42,
     "metadata": {},
     "output_type": "execute_result"
    }
   ],
   "source": [
    "count = 0.0\n",
    "total = 0.0\n",
    "import numpy as np\n",
    "np.mean(data_df['stars'])\n",
    "    "
   ]
  },
  {
   "cell_type": "code",
   "execution_count": null,
   "metadata": {
    "collapsed": true
   },
   "outputs": [],
   "source": [
    "attrName = 'Takes Reservations'\n",
    "attr_df = data_df[[attrName in x for x in data_df['attributes']]]\n"
   ]
  }
 ],
 "metadata": {
  "kernelspec": {
   "display_name": "Python 3",
   "language": "python",
   "name": "python3"
  },
  "language_info": {
   "codemirror_mode": {
    "name": "ipython",
    "version": 3
   },
   "file_extension": ".py",
   "mimetype": "text/x-python",
   "name": "python",
   "nbconvert_exporter": "python",
   "pygments_lexer": "ipython3",
   "version": "3.5.1"
  }
 },
 "nbformat": 4,
 "nbformat_minor": 0
}
